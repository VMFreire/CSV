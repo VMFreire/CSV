{
 "cells": [
  {
   "cell_type": "code",
   "execution_count": 9,
   "metadata": {},
   "outputs": [],
   "source": [
    "import pandas as pd\n",
    "\n",
    "df = pd.read_csv('DTC/NVDD041_PARTII_DID_META_HTE.csv',nrows = 10) #Import the csv file from the root\n",
    "#print(df)\n",
    "\n",
    "parameter_table = df.filter(items=['scvtbe_vdd032_part_ii_did_k','scvtbe_vdd041_meta_dta_blob_x'])\n",
    "\n",
    "#print(parameter_table)"
   ]
  },
  {
   "cell_type": "code",
   "execution_count": 11,
   "metadata": {},
   "outputs": [
    {
     "ename": "ValueError",
     "evalue": "The truth value of a Series is ambiguous. Use a.empty, a.bool(), a.item(), a.any() or a.all().",
     "output_type": "error",
     "traceback": [
      "\u001b[1;31m---------------------------------------------------------------------------\u001b[0m",
      "\u001b[1;31mValueError\u001b[0m                                Traceback (most recent call last)",
      "\u001b[1;32m<ipython-input-11-8bf08e938e27>\u001b[0m in \u001b[0;36m<module>\u001b[1;34m\u001b[0m\n\u001b[0;32m     13\u001b[0m     \u001b[0mdw\u001b[0m \u001b[1;33m=\u001b[0m \u001b[0mjson_normalize\u001b[0m\u001b[1;33m(\u001b[0m\u001b[0mjson_file\u001b[0m\u001b[1;33m,\u001b[0m\u001b[1;34m'dataDefinitionIVOList'\u001b[0m\u001b[1;33m)\u001b[0m\u001b[1;33m\u001b[0m\u001b[1;33m\u001b[0m\u001b[0m\n\u001b[0;32m     14\u001b[0m     \u001b[0mdf2\u001b[0m \u001b[1;33m=\u001b[0m \u001b[0mdf2\u001b[0m\u001b[1;33m.\u001b[0m\u001b[0mappend\u001b[0m\u001b[1;33m(\u001b[0m\u001b[0mdw\u001b[0m\u001b[1;33m)\u001b[0m\u001b[1;33m\u001b[0m\u001b[1;33m\u001b[0m\u001b[0m\n\u001b[1;32m---> 15\u001b[1;33m     \u001b[1;32mif\u001b[0m \u001b[0mdw\u001b[0m\u001b[1;33m[\u001b[0m\u001b[1;34m'numericParameters'\u001b[0m\u001b[1;33m]\u001b[0m \u001b[1;33m==\u001b[0m \u001b[1;32mNone\u001b[0m\u001b[1;33m:\u001b[0m\u001b[1;33m\u001b[0m\u001b[1;33m\u001b[0m\u001b[0m\n\u001b[0m\u001b[0;32m     16\u001b[0m         df3 = df3.append(pd.DataFrame(data={'offset':[None], 'rangeHigh':[None], 'rangeLow': [None], \\\n\u001b[0;32m     17\u001b[0m                                             \u001b[1;34m'resolution.denominator'\u001b[0m\u001b[1;33m:\u001b[0m \u001b[1;33m[\u001b[0m\u001b[1;32mNone\u001b[0m\u001b[1;33m]\u001b[0m\u001b[1;33m,\u001b[0m \u001b[1;34m'resolution.numerator'\u001b[0m\u001b[1;33m:\u001b[0m \u001b[1;33m[\u001b[0m\u001b[1;32mNone\u001b[0m\u001b[1;33m]\u001b[0m\u001b[1;33m,\u001b[0m\u001b[0;31m \u001b[0m\u001b[0;31m\\\u001b[0m\u001b[1;33m\u001b[0m\u001b[1;33m\u001b[0m\u001b[0m\n",
      "\u001b[1;32m~\\AppData\\Local\\Continuum\\anaconda3\\lib\\site-packages\\pandas\\core\\generic.py\u001b[0m in \u001b[0;36m__nonzero__\u001b[1;34m(self)\u001b[0m\n\u001b[0;32m   1476\u001b[0m         raise ValueError(\"The truth value of a {0} is ambiguous. \"\n\u001b[0;32m   1477\u001b[0m                          \u001b[1;34m\"Use a.empty, a.bool(), a.item(), a.any() or a.all().\"\u001b[0m\u001b[1;33m\u001b[0m\u001b[1;33m\u001b[0m\u001b[0m\n\u001b[1;32m-> 1478\u001b[1;33m                          .format(self.__class__.__name__))\n\u001b[0m\u001b[0;32m   1479\u001b[0m \u001b[1;33m\u001b[0m\u001b[0m\n\u001b[0;32m   1480\u001b[0m     \u001b[0m__bool__\u001b[0m \u001b[1;33m=\u001b[0m \u001b[0m__nonzero__\u001b[0m\u001b[1;33m\u001b[0m\u001b[1;33m\u001b[0m\u001b[0m\n",
      "\u001b[1;31mValueError\u001b[0m: The truth value of a Series is ambiguous. Use a.empty, a.bool(), a.item(), a.any() or a.all()."
     ]
    }
   ],
   "source": [
    "import json\n",
    "from pandas.io.json import json_normalize #1.0.1\n",
    "\n",
    "contents = parameter_table['scvtbe_vdd041_meta_dta_blob_x']\n",
    "\n",
    "df1 = pd.DataFrame()\n",
    "df2 = pd.DataFrame()\n",
    "df3 = pd.DataFrame()\n",
    "\n",
    "for content in contents:\n",
    "    json_file  = json.loads(content)\n",
    "    df1 = df1.append(json_normalize(json_file)) \n",
    "    dw = json_normalize(json_file,'dataDefinitionIVOList')\n",
    "    df2 = df2.append(dw) \n",
    "    if dw['numericParameters'] == None:\n",
    "        df3 = df3.append(pd.DataFrame(data={'offset':[None], 'rangeHigh':[None], 'rangeLow': [None], \\\n",
    "                                            'resolution.denominator': [None], 'resolution.numerator': [None], \\\n",
    "                                            'resolution.value':[None], 'units':[None]}))\n",
    "    else:\n",
    "        df3 = df3.append(json_normalize(dw['numericParameters']))   \n",
    "# for content in contents:\n",
    "#     json_file  = json.loads(content)\n",
    "#     df1 = df1.append(json_normalize(json_file)) \n",
    "#     df2 = df2.append(json_normalize(json_file,'dataDefinitionIVOList')) \n",
    "\n",
    "# for dline in df2['numericParameters']:\n",
    "#     if dline == None:\n",
    "#         df3 = df3.append(pd.DataFrame(data={'offset':[None], 'rangeHigh':[None], 'rangeLow': [None], \\\n",
    "#                                             'resolution.denominator': [None], 'resolution.numerator': [None], \\\n",
    "#                                             'resolution.value':[None], 'units':[None]}))\n",
    "#     else:\n",
    "#         df3 = df3.append(json_normalize(dline))   \n",
    "parameter_name = df1['name']\n",
    "parameter_data_type = df2['dataType']\n",
    "parameter_length = df1['length']\n",
    "parameter_unit = df3['units']\n",
    "parameter_unit.index = parameter_name.index\n",
    "parameter_description = df1['description']\n",
    "parameter_number = parameter_unit.index + 1\n",
    "VLOOKUP2 = pd.DataFrame(data={'name': parameter_name,'data_type': parameter_data_type, \\\n",
    "                              'length': parameter_length, 'unit': parameter_unit,\\\n",
    "                              'description': parameter_description, 'number': parameter_number})\n",
    "VLOOKUP2\n",
    "#df1.to_csv(r'C:\\Users\\vfreire\\Desktop\\DTC\\df1.csv', header=True) \n",
    "#df2.to_csv(r'C:\\Users\\vfreire\\Desktop\\DTC\\df2.csv', header=True) "
   ]
  },
  {
   "cell_type": "code",
   "execution_count": null,
   "metadata": {},
   "outputs": [],
   "source": [
    "# teste = pd.DataFrame(data = {'offset':1, 'rangeHigh':2, 'rangeLow': 3, 'units':4})\n",
    "#teste = pd.DataFrame(data={'offset':[None], 'rangeHigh':[None], 'rangeLow': [None], 'units':[None]})\n",
    "\n",
    "VLOOKUP2.to_csv(r'C:\\Users\\vfreire\\Desktop\\DTC\\VLOOKUP2.csv', header=True) "
   ]
  },
  {
   "cell_type": "code",
   "execution_count": 6,
   "metadata": {},
   "outputs": [
    {
     "name": "stdout",
     "output_type": "stream",
     "text": [
      "0    None\n",
      "Name: numericParameters, dtype: object\n"
     ]
    },
    {
     "data": {
      "text/plain": [
       "True"
      ]
     },
     "execution_count": 6,
     "metadata": {},
     "output_type": "execute_result"
    }
   ],
   "source": []
  }
 ],
 "metadata": {
  "kernelspec": {
   "display_name": "Python 3",
   "language": "python",
   "name": "python3"
  },
  "language_info": {
   "codemirror_mode": {
    "name": "ipython",
    "version": 3
   },
   "file_extension": ".py",
   "mimetype": "text/x-python",
   "name": "python",
   "nbconvert_exporter": "python",
   "pygments_lexer": "ipython3",
   "version": "3.6.8"
  }
 },
 "nbformat": 4,
 "nbformat_minor": 2
}
