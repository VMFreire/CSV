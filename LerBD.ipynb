{
 "cells": [
  {
   "cell_type": "code",
   "execution_count": null,
   "metadata": {},
   "outputs": [],
   "source": [
    "# from pyspark_llap.sql.session import HiveWareSession\n",
    "# from pyspark.sql import SparkSession\n",
    "# spark = SparkSession.builder.appname('hiveApp').enableHiveSupport().getOrCreate()\n",
    "# hive = HiveWarehousesession.session(spark).build()\n"
   ]
  },
  {
   "cell_type": "code",
   "execution_count": 60,
   "metadata": {},
   "outputs": [
    {
     "name": "stdout",
     "output_type": "stream",
     "text": [
      "[{\"comment\":null,\"dataDefinitionIVOList\":[{\"asciiParameters\":null,\"bcdparameters\":null,\"dataType\":\"ENUMERATED\",\"defaultvalue\":null,\"description\":null,\"enumeratedParameters\":{\"enumMember\":[{\"description\":\"Open\",\"enumValue\":{\"value\":\"0x00\"}},{\"description\":\"Closed\",\"enumValue\":{\"value\":\"0x01\"}}]},\"numericParameters\":null}],\"description\":\"a) BECM shall set Main Positive Contactor Output Demanded = 0b1: Closed, if BECM is commanding the main positive contactor to be closed; otherwise BECM shall set Main Positive Contactor Output Demanded = 0b0: Open\",\"ecuconnectorpin\":null,\"leastSigBit\":\"31\",\"length\":1,\"mostSigBit\":\"31\",\"name\":\"Main Positive Contactor Output Demanded\",\"numericranges\":null,\"shortName\":null,\"uncontrollableenumvalues\":null},{\"comment\":null,\"dataDefinitionIVOList\":[{\"asciiParameters\":null,\"bcdparameters\":null,\"dataType\":\"ENUMERATED\",\"defaultvalue\":null,\"description\":null,\"enumeratedParameters\":{\"enumMember\":[{\"description\":\"Open\",\"enumValue\":{\"value\":\"0x00\"}},{\"description\":\"Closed\",\"enumValue\":{\"value\":\"0x01\"}}]},\"numericParameters\":null}],\"description\":\"b) BECM shall set Precharge Contactor Output Demanded = 0b1: Closed, if BECM is commanding the precharge contactor to be closed; otherwise BECM shall set Precharge Contactor Output Demanded = 0b0: Open.\",\"ecuconnectorpin\":null,\"leastSigBit\":\"30\",\"length\":1,\"mostSigBit\":\"30\",\"name\":\"Precharge Contactor Output Demanded\",\"numericranges\":null,\"shortName\":null,\"uncontrollableenumvalues\":null},{\"comment\":null,\"dataDefinitionIVOList\":[{\"asciiParameters\":null,\"bcdparameters\":null,\"dataType\":\"ENUMERATED\",\"defaultvalue\":null,\"description\":null,\"enumeratedParameters\":{\"enumMember\":[{\"description\":\"Open\",\"enumValue\":{\"value\":\"0x00\"}},{\"description\":\"Closed\",\"enumValue\":{\"value\":\"0x01\"}}]},\"numericParameters\":null}],\"description\":\"c) BECM shall set Negative Contactor Output Demanded = 0b1: Closed, if BECM is commanding main negative contactor to be closed; otherwise BECM shall set Negative Contactor Output Demanded = 0b0: Open\",\"ecuconnectorpin\":null,\"leastSigBit\":\"29\",\"length\":1,\"mostSigBit\":\"29\",\"name\":\"Negative Contactor Output Demanded\",\"numericranges\":null,\"shortName\":null,\"uncontrollableenumvalues\":null},{\"comment\":null,\"dataDefinitionIVOList\":[{\"asciiParameters\":null,\"bcdparameters\":null,\"dataType\":\"ENUMERATED\",\"defaultvalue\":null,\"description\":null,\"enumeratedParameters\":{\"enumMember\":[{\"description\":\"Open\",\"enumValue\":{\"value\":\"0x00\"}},{\"description\":\"Closed\",\"enumValue\":{\"value\":\"0x01\"}}]},\"numericParameters\":null}],\"description\":\"d) BECM shall set Contactor System Enable Output Indicated = 0b1: Closed, if BECM receives HtrnCnnctPwr_B_Stat = Asserted or ChrgrCnnctPwr_B_Stat = Asserted; otherwise BECM shall set Contactor System Enable Output Indicated = 0b0: Open\",\"ecuconnectorpin\":null,\"leastSigBit\":\"24\",\"length\":1,\"mostSigBit\":\"24\",\"name\":\"Contactor System Enable Output Indicated\",\"numericranges\":null,\"shortName\":null,\"uncontrollableenumvalues\":null},{\"comment\":null,\"dataDefinitionIVOList\":[{\"asciiParameters\":null,\"bcdparameters\":null,\"dataType\":\"ENUMERATED\",\"defaultvalue\":null,\"description\":null,\"enumeratedParameters\":{\"enumMember\":[{\"description\":\"Off\",\"enumValue\":{\"value\":\"0x00\"}},{\"description\":\"On\",\"enumValue\":{\"value\":\"0x01\"}}]},\"numericParameters\":null}],\"description\":\"e) BECM shall set Rapid Shutdown \\\"A\\\" Demanded = 0b1: On, if the condition for BECM to transmit BattTracOffFst_D_Actl = Restraints Impact Event or Unexpected Contactor Open is met; otherwise BECM shall set Rapid Shutdown \\\"A\\\" Demanded = 0b0: Off\",\"ecuconnectorpin\":null,\"leastSigBit\":\"23\",\"length\":1,\"mostSigBit\":\"23\",\"name\":\"Rapid Shutdown \\\"A\\\" Demanded\",\"numericranges\":null,\"shortName\":null,\"uncontrollableenumvalues\":null},{\"comment\":null,\"dataDefinitionIVOList\":[{\"asciiParameters\":null,\"bcdparameters\":null,\"dataType\":\"ENUMERATED\",\"defaultvalue\":null,\"description\":null,\"enumeratedParameters\":{\"enumMember\":[{\"description\":\"Open\",\"enumValue\":{\"value\":\"0x00\"}},{\"description\":\"Closed\",\"enumValue\":{\"value\":\"0x01\"}}]},\"numericParameters\":null}],\"description\":\"f) BECM shall set Main Positive Contactor Input Status = 0b1: Closed, if BECM HWIO feedback indicates the main positive contactor is closed; otherwise BECM shall set Main Positive Contactor Input Status = 0b0: Open\",\"ecuconnectorpin\":null,\"leastSigBit\":\"19\",\"length\":1,\"mostSigBit\":\"19\",\"name\":\"Main Positive Contactor Input Status\",\"numericranges\":null,\"shortName\":null,\"uncontrollableenumvalues\":null},{\"comment\":null,\"dataDefinitionIVOList\":[{\"asciiParameters\":null,\"bcdparameters\":null,\"dataType\":\"ENUMERATED\",\"defaultvalue\":null,\"description\":null,\"enumeratedParameters\":{\"enumMember\":[{\"description\":\"Open\",\"enumValue\":{\"value\":\"0x00\"}},{\"description\":\"Closed\",\"enumValue\":{\"value\":\"0x01\"}}]},\"numericParameters\":null}],\"description\":\"g) BECM shall set Negative Contactor Input Status = 0b1: Closed, if BECM HWIO feedback indicates the main negative contactor is closed; otherwise BECM shall set Negative Contactor Input Status = 0b0: Open\",\"ecuconnectorpin\":null,\"leastSigBit\":\"17\",\"length\":1,\"mostSigBit\":\"17\",\"name\":\"Negative Contactor Input Status\",\"numericranges\":null,\"shortName\":null,\"uncontrollableenumvalues\":null},{\"comment\":null,\"dataDefinitionIVOList\":[{\"asciiParameters\":null,\"bcdparameters\":null,\"dataType\":\"ENUMERATED\",\"defaultvalue\":null,\"description\":null,\"enumeratedParameters\":{\"enumMember\":[{\"description\":\"Open\",\"enumValue\":{\"value\":\"0x00\"}},{\"description\":\"Closed\",\"enumValue\":{\"value\":\"0x01\"}}]},\"numericParameters\":null}],\"description\":\"h) BECM shall set Contactor System Enable Input Status = 0b1: Closed, if BECM HWIO indicates CONT_PWR input is being asserted; otherwise BECM shall set Contactor System Enable Input Status = 0b0: Open\",\"ecuconnectorpin\":null,\"leastSigBit\":\"16\",\"length\":1,\"mostSigBit\":\"16\",\"name\":\"Contactor System Enable Input Status\",\"numericranges\":null,\"shortName\":null,\"uncontrollableenumvalues\":null},{\"comment\":null,\"dataDefinitionIVOList\":[{\"asciiParameters\":null,\"bcdparameters\":null,\"dataType\":\"ENUMERATED\",\"defaultvalue\":null,\"description\":null,\"enumeratedParameters\":{\"enumMember\":[{\"description\":\"Open\",\"enumValue\":{\"value\":\"0x00\"}},{\"description\":\"Closed\",\"enumValue\":{\"value\":\"0x01\"}}]},\"numericParameters\":null}],\"description\":\"i) BECM shall set High Voltage Interlock Input Status = 0b1: Closed, if BECM determines BECM HVIL is closed; otherwise BECM shall set High Voltage Interlock Input Status = 0b0: Open.\",\"ecuconnectorpin\":null,\"leastSigBit\":\"15\",\"length\":1,\"mostSigBit\":\"15\",\"name\":\"High Voltage Interlock Input Status\",\"numericranges\":null,\"shortName\":null,\"uncontrollableenumvalues\":null},{\"comment\":null,\"dataDefinitionIVOList\":[{\"asciiParameters\":null,\"bcdparameters\":null,\"dataType\":\"ENUMERATED\",\"defaultvalue\":null,\"description\":null,\"enumeratedParameters\":{\"enumMember\":[{\"description\":\"Open\",\"enumValue\":{\"value\":\"0x00\"}},{\"description\":\"Closed\",\"enumValue\":{\"value\":\"0x01\"}}]},\"numericParameters\":null}],\"description\":\"j) BECM shall set Vehicle Contactor Request Command = 0b1: Closed, if the interpreted BECM contactor close request sent by vehicle system controller is close; otherwise BECM shall set Vehicle Contactor Request Command = 0b0: Open\",\"ecuconnectorpin\":null,\"leastSigBit\":\"10\",\"length\":1,\"mostSigBit\":\"10\",\"name\":\"Vehicle Contactor Request Command\",\"numericranges\":null,\"shortName\":null,\"uncontrollableenumvalues\":null},{\"comment\":null,\"dataDefinitionIVOList\":[{\"asciiParameters\":null,\"bcdparameters\":null,\"dataType\":\"ENUMERATED\",\"defaultvalue\":null,\"description\":null,\"enumeratedParameters\":{\"enumMember\":[{\"description\":\"No Fault\",\"enumValue\":{\"value\":\"0x00\"}},{\"description\":\"Fault\",\"enumValue\":{\"value\":\"0x01\"}}]},\"numericParameters\":null}],\"description\":\"k) BECM shall set Main Positive Contactor Fault Status = 0b1: Fault, if the condition for BECM to set DTCs as specified in IFS section 5.4.1.5 (MAIN_POS_CONT Control Side of the Main Positive Contactor) is met; otherwise, BECM shall set Main Positive Contactor Fault Status = 0b0: No Fault\",\"ecuconnectorpin\":null,\"leastSigBit\":\"7\",\"length\":1,\"mostSigBit\":\"7\",\"name\":\"Main Positive Contactor Fault Status\",\"numericranges\":null,\"shortName\":null,\"uncontrollableenumvalues\":null},{\"comment\":null,\"dataDefinitionIVOList\":[{\"asciiParameters\":null,\"bcdparameters\":null,\"dataType\":\"ENUMERATED\",\"defaultvalue\":null,\"description\":null,\"enumeratedParameters\":{\"enumMember\":[{\"description\":\"No Fault\",\"enumValue\":{\"value\":\"0x00\"}},{\"description\":\"Fault\",\"enumValue\":{\"value\":\"0x01\"}}]},\"numericParameters\":null}],\"description\":\"l) BECM shall set Precharge Contactor Fault Status = 0b1: Fault, if the condition for BECM to set DTCs as specified in IFS section 5.4.1.7 (PRECHARGE_CONT Control Side of the Pre-Charge Contactor) is met; otherwise, BECM shall set Precharge Contactor Fault Status = 0b0: No Fault\",\"ecuconnectorpin\":null,\"leastSigBit\":\"6\",\"length\":1,\"mostSigBit\":\"6\",\"name\":\"Precharge Contactor Fault Status\",\"numericranges\":null,\"shortName\":null,\"uncontrollableenumvalues\":null},{\"comment\":null,\"dataDefinitionIVOList\":[{\"asciiParameters\":null,\"bcdparameters\":null,\"dataType\":\"ENUMERATED\",\"defaultvalue\":null,\"description\":null,\"enumeratedParameters\":{\"enumMember\":[{\"description\":\"No Fault\",\"enumValue\":{\"value\":\"0x00\"}},{\"description\":\"Fault\",\"enumValue\":{\"value\":\"0x01\"}}]},\"numericParameters\":null}],\"description\":\"m) BECM shall set Negative Contactor Fault Status = 0b1: Fault, if the condition for BECM to set DTCs as specified in IFS section 5.4.1.6 (MAIN_NEG_CONT Control Side of the Main Negative Contactor) is met; otherwise, BECM shall set Negative Contactor Fault Status = 0b0: No Fault\",\"ecuconnectorpin\":null,\"leastSigBit\":\"5\",\"length\":1,\"mostSigBit\":\"5\",\"name\":\"Negative Contactor Fault Status\",\"numericranges\":null,\"shortName\":null,\"uncontrollableenumvalues\":null},{\"comment\":null,\"dataDefinitionIVOList\":[{\"asciiParameters\":null,\"bcdparameters\":null,\"dataType\":\"ENUMERATED\",\"defaultvalue\":null,\"description\":null,\"enumeratedParameters\":{\"enumMember\":[{\"description\":\"No Fault\",\"enumValue\":{\"value\":\"0x00\"}},{\"description\":\"Fault\",\"enumValue\":{\"value\":\"0x01\"}}]},\"numericParameters\":null}],\"description\":\"n) BECM shall set Positive Contactor Voltage Sensor Fault Status = 0b1: Fault, if the condition for BECM to set DTCs as specified in IFS section 5.3.1.6 (V_CONT_POS Vehicle Side of the Main Positive and Pre-charge Contactors) is met; otherwise BECM shall set Positive Contactor Voltage Sensor Fault Status = 0b0: No Fault\",\"ecuconnectorpin\":null,\"leastSigBit\":\"3\",\"length\":1,\"mostSigBit\":\"3\",\"name\":\"Positive Contactor Voltage Sensor Fault Status\",\"numericranges\":null,\"shortName\":null,\"uncontrollableenumvalues\":null},{\"comment\":null,\"dataDefinitionIVOList\":[{\"asciiParameters\":null,\"bcdparameters\":null,\"dataType\":\"ENUMERATED\",\"defaultvalue\":null,\"description\":null,\"enumeratedParameters\":{\"enumMember\":[{\"description\":\"No Fault\",\"enumValue\":{\"value\":\"0x00\"}},{\"description\":\"Fault\",\"enumValue\":{\"value\":\"0x01\"}}]},\"numericParameters\":null}],\"description\":\"o) BECM shall set Negative Contactor Voltage Sensor Fault Status = 0b1: Fault, if the condition for BECM to set DTCs as specified in IFS section 5.3.1.7 (V_CONT_NEG Vehicle Side of the Main Negative Contactor) is met; otherwise BECM shall set Negative Contactor Voltage Sensor Fault Status = 0b0: No Fault\",\"ecuconnectorpin\":null,\"leastSigBit\":\"2\",\"length\":1,\"mostSigBit\":\"2\",\"name\":\"Negative Contactor Voltage Sensor Fault Status\",\"numericranges\":null,\"shortName\":null,\"uncontrollableenumvalues\":null}]\n"
     ]
    }
   ],
   "source": [
    "import pandas as pd\n",
    "\n",
    "df = pd.read_csv('Bd.csv')\n",
    "content = df.columns\n",
    "list_one_term = df.columns.tolist()\n",
    "str_one_term  = ''.join(list_one_term)\n",
    "print(str_one_term)\n"
   ]
  },
  {
   "cell_type": "code",
   "execution_count": 154,
   "metadata": {},
   "outputs": [],
   "source": [
    "from pandas.io.json import json_normalize #1.0.1\n",
    "data  = json.loads(str_one_term)\n",
    "ndata = json_normalize(data)\n",
    "ndata2 = json_normalize(data, 'dataDefinitionIVOList')\n",
    "\n",
    "ndata.drop('dataDefinitionIVOList', inplace=True, axis=1)\n",
    "table = ndata.join(ndata2, lsuffix='_caller', rsuffix='_other')\n",
    "\n",
    "table.to_csv(r'C:\\Users\\vfreire\\Desktop\\table.csv', header=True)\n",
    "\n",
    "#data2 =json.loads(table['enumeratedParameters'].values)\n",
    "\n",
    "#list_one_term2 = table['enumeratedParameters'].values.tolist()\n",
    "#data2 =json.loads(list_one_term2)\n",
    "#str_one_term2  = ''.join(list_one_term2)\n",
    "#print(list_one_term2)\n"
   ]
  },
  {
   "cell_type": "code",
   "execution_count": 153,
   "metadata": {},
   "outputs": [
    {
     "name": "stdout",
     "output_type": "stream",
     "text": [
      "{'enumMember': [{'description': 'Open', 'enumValue': {'value': '0x00'}}, {'description': 'Closed', 'enumValue': {'value': '0x01'}}]}\n"
     ]
    }
   ],
   "source": [
    "print(list_one_term2[5])"
   ]
  },
  {
   "cell_type": "code",
   "execution_count": 27,
   "metadata": {},
   "outputs": [],
   "source": [
    "#print(list_one_term)"
   ]
  }
 ],
 "metadata": {
  "kernelspec": {
   "display_name": "Python 3",
   "language": "python",
   "name": "python3"
  },
  "language_info": {
   "codemirror_mode": {
    "name": "ipython",
    "version": 3
   },
   "file_extension": ".py",
   "mimetype": "text/x-python",
   "name": "python",
   "nbconvert_exporter": "python",
   "pygments_lexer": "ipython3",
   "version": "3.6.8"
  }
 },
 "nbformat": 4,
 "nbformat_minor": 2
}
