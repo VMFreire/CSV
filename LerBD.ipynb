{
 "cells": [
  {
   "cell_type": "code",
   "execution_count": null,
   "metadata": {},
   "outputs": [],
   "source": [
    "# from pyspark_llap.sql.session import HiveWareSession\n",
    "# from pyspark.sql import SparkSession\n",
    "# spark = SparkSession.builder.appname('hiveApp').enableHiveSupport().getOrCreate()\n",
    "# hive = HiveWarehousesession.session(spark).build()\n"
   ]
  },
  {
   "cell_type": "code",
   "execution_count": 242,
   "metadata": {},
   "outputs": [
    {
     "name": "stdout",
     "output_type": "stream",
     "text": [
      "[{\"comment\":null,\"dataDefinitionIVOList\":[{\"asciiParameters\":null,\"bcdparameters\":null,\"dataType\":\"ENUMERATED\",\"defaultvalue\":null,\"description\":null,\"enumeratedParameters\":{\"enumMember\":[{\"description\":\"Open\",\"enumValue\":{\"value\":\"0x00\"}},{\"description\":\"Closed\",\"enumValue\":{\"value\":\"0x01\"}}]},\"numericParameters\":null}],\"description\":\"a) BECM shall set Main Positive Contactor Output Demanded = 0b1: Closed, if BECM is commanding the main positive contactor to be closed; otherwise BECM shall set Main Positive Contactor Output Demanded = 0b0: Open\",\"ecuconnectorpin\":null,\"leastSigBit\":\"31\",\"length\":1,\"mostSigBit\":\"31\",\"name\":\"Main Positive Contactor Output Demanded\",\"numericranges\":null,\"shortName\":null,\"uncontrollableenumvalues\":null},{\"comment\":null,\"dataDefinitionIVOList\":[{\"asciiParameters\":null,\"bcdparameters\":null,\"dataType\":\"ENUMERATED\",\"defaultvalue\":null,\"description\":null,\"enumeratedParameters\":{\"enumMember\":[{\"description\":\"Open\",\"enumValue\":{\"value\":\"0x00\"}},{\"description\":\"Closed\",\"enumValue\":{\"value\":\"0x01\"}}]},\"numericParameters\":null}],\"description\":\"b) BECM shall set Precharge Contactor Output Demanded = 0b1: Closed, if BECM is commanding the precharge contactor to be closed; otherwise BECM shall set Precharge Contactor Output Demanded = 0b0: Open.\",\"ecuconnectorpin\":null,\"leastSigBit\":\"30\",\"length\":1,\"mostSigBit\":\"30\",\"name\":\"Precharge Contactor Output Demanded\",\"numericranges\":null,\"shortName\":null,\"uncontrollableenumvalues\":null},{\"comment\":null,\"dataDefinitionIVOList\":[{\"asciiParameters\":null,\"bcdparameters\":null,\"dataType\":\"ENUMERATED\",\"defaultvalue\":null,\"description\":null,\"enumeratedParameters\":{\"enumMember\":[{\"description\":\"Open\",\"enumValue\":{\"value\":\"0x00\"}},{\"description\":\"Closed\",\"enumValue\":{\"value\":\"0x01\"}}]},\"numericParameters\":null}],\"description\":\"c) BECM shall set Negative Contactor Output Demanded = 0b1: Closed, if BECM is commanding main negative contactor to be closed; otherwise BECM shall set Negative Contactor Output Demanded = 0b0: Open\",\"ecuconnectorpin\":null,\"leastSigBit\":\"29\",\"length\":1,\"mostSigBit\":\"29\",\"name\":\"Negative Contactor Output Demanded\",\"numericranges\":null,\"shortName\":null,\"uncontrollableenumvalues\":null},{\"comment\":null,\"dataDefinitionIVOList\":[{\"asciiParameters\":null,\"bcdparameters\":null,\"dataType\":\"ENUMERATED\",\"defaultvalue\":null,\"description\":null,\"enumeratedParameters\":{\"enumMember\":[{\"description\":\"Open\",\"enumValue\":{\"value\":\"0x00\"}},{\"description\":\"Closed\",\"enumValue\":{\"value\":\"0x01\"}}]},\"numericParameters\":null}],\"description\":\"d) BECM shall set Contactor System Enable Output Indicated = 0b1: Closed, if BECM receives HtrnCnnctPwr_B_Stat = Asserted or ChrgrCnnctPwr_B_Stat = Asserted; otherwise BECM shall set Contactor System Enable Output Indicated = 0b0: Open\",\"ecuconnectorpin\":null,\"leastSigBit\":\"24\",\"length\":1,\"mostSigBit\":\"24\",\"name\":\"Contactor System Enable Output Indicated\",\"numericranges\":null,\"shortName\":null,\"uncontrollableenumvalues\":null},{\"comment\":null,\"dataDefinitionIVOList\":[{\"asciiParameters\":null,\"bcdparameters\":null,\"dataType\":\"ENUMERATED\",\"defaultvalue\":null,\"description\":null,\"enumeratedParameters\":{\"enumMember\":[{\"description\":\"Off\",\"enumValue\":{\"value\":\"0x00\"}},{\"description\":\"On\",\"enumValue\":{\"value\":\"0x01\"}}]},\"numericParameters\":null}],\"description\":\"e) BECM shall set Rapid Shutdown \\\"A\\\" Demanded = 0b1: On, if the condition for BECM to transmit BattTracOffFst_D_Actl = Restraints Impact Event or Unexpected Contactor Open is met; otherwise BECM shall set Rapid Shutdown \\\"A\\\" Demanded = 0b0: Off\",\"ecuconnectorpin\":null,\"leastSigBit\":\"23\",\"length\":1,\"mostSigBit\":\"23\",\"name\":\"Rapid Shutdown \\\"A\\\" Demanded\",\"numericranges\":null,\"shortName\":null,\"uncontrollableenumvalues\":null},{\"comment\":null,\"dataDefinitionIVOList\":[{\"asciiParameters\":null,\"bcdparameters\":null,\"dataType\":\"ENUMERATED\",\"defaultvalue\":null,\"description\":null,\"enumeratedParameters\":{\"enumMember\":[{\"description\":\"Open\",\"enumValue\":{\"value\":\"0x00\"}},{\"description\":\"Closed\",\"enumValue\":{\"value\":\"0x01\"}}]},\"numericParameters\":null}],\"description\":\"f) BECM shall set Main Positive Contactor Input Status = 0b1: Closed, if BECM HWIO feedback indicates the main positive contactor is closed; otherwise BECM shall set Main Positive Contactor Input Status = 0b0: Open\",\"ecuconnectorpin\":null,\"leastSigBit\":\"19\",\"length\":1,\"mostSigBit\":\"19\",\"name\":\"Main Positive Contactor Input Status\",\"numericranges\":null,\"shortName\":null,\"uncontrollableenumvalues\":null},{\"comment\":null,\"dataDefinitionIVOList\":[{\"asciiParameters\":null,\"bcdparameters\":null,\"dataType\":\"ENUMERATED\",\"defaultvalue\":null,\"description\":null,\"enumeratedParameters\":{\"enumMember\":[{\"description\":\"Open\",\"enumValue\":{\"value\":\"0x00\"}},{\"description\":\"Closed\",\"enumValue\":{\"value\":\"0x01\"}}]},\"numericParameters\":null}],\"description\":\"g) BECM shall set Negative Contactor Input Status = 0b1: Closed, if BECM HWIO feedback indicates the main negative contactor is closed; otherwise BECM shall set Negative Contactor Input Status = 0b0: Open\",\"ecuconnectorpin\":null,\"leastSigBit\":\"17\",\"length\":1,\"mostSigBit\":\"17\",\"name\":\"Negative Contactor Input Status\",\"numericranges\":null,\"shortName\":null,\"uncontrollableenumvalues\":null},{\"comment\":null,\"dataDefinitionIVOList\":[{\"asciiParameters\":null,\"bcdparameters\":null,\"dataType\":\"ENUMERATED\",\"defaultvalue\":null,\"description\":null,\"enumeratedParameters\":{\"enumMember\":[{\"description\":\"Open\",\"enumValue\":{\"value\":\"0x00\"}},{\"description\":\"Closed\",\"enumValue\":{\"value\":\"0x01\"}}]},\"numericParameters\":null}],\"description\":\"h) BECM shall set Contactor System Enable Input Status = 0b1: Closed, if BECM HWIO indicates CONT_PWR input is being asserted; otherwise BECM shall set Contactor System Enable Input Status = 0b0: Open\",\"ecuconnectorpin\":null,\"leastSigBit\":\"16\",\"length\":1,\"mostSigBit\":\"16\",\"name\":\"Contactor System Enable Input Status\",\"numericranges\":null,\"shortName\":null,\"uncontrollableenumvalues\":null},{\"comment\":null,\"dataDefinitionIVOList\":[{\"asciiParameters\":null,\"bcdparameters\":null,\"dataType\":\"ENUMERATED\",\"defaultvalue\":null,\"description\":null,\"enumeratedParameters\":{\"enumMember\":[{\"description\":\"Open\",\"enumValue\":{\"value\":\"0x00\"}},{\"description\":\"Closed\",\"enumValue\":{\"value\":\"0x01\"}}]},\"numericParameters\":null}],\"description\":\"i) BECM shall set High Voltage Interlock Input Status = 0b1: Closed, if BECM determines BECM HVIL is closed; otherwise BECM shall set High Voltage Interlock Input Status = 0b0: Open.\",\"ecuconnectorpin\":null,\"leastSigBit\":\"15\",\"length\":1,\"mostSigBit\":\"15\",\"name\":\"High Voltage Interlock Input Status\",\"numericranges\":null,\"shortName\":null,\"uncontrollableenumvalues\":null},{\"comment\":null,\"dataDefinitionIVOList\":[{\"asciiParameters\":null,\"bcdparameters\":null,\"dataType\":\"ENUMERATED\",\"defaultvalue\":null,\"description\":null,\"enumeratedParameters\":{\"enumMember\":[{\"description\":\"Open\",\"enumValue\":{\"value\":\"0x00\"}},{\"description\":\"Closed\",\"enumValue\":{\"value\":\"0x01\"}}]},\"numericParameters\":null}],\"description\":\"j) BECM shall set Vehicle Contactor Request Command = 0b1: Closed, if the interpreted BECM contactor close request sent by vehicle system controller is close; otherwise BECM shall set Vehicle Contactor Request Command = 0b0: Open\",\"ecuconnectorpin\":null,\"leastSigBit\":\"10\",\"length\":1,\"mostSigBit\":\"10\",\"name\":\"Vehicle Contactor Request Command\",\"numericranges\":null,\"shortName\":null,\"uncontrollableenumvalues\":null},{\"comment\":null,\"dataDefinitionIVOList\":[{\"asciiParameters\":null,\"bcdparameters\":null,\"dataType\":\"ENUMERATED\",\"defaultvalue\":null,\"description\":null,\"enumeratedParameters\":{\"enumMember\":[{\"description\":\"No Fault\",\"enumValue\":{\"value\":\"0x00\"}},{\"description\":\"Fault\",\"enumValue\":{\"value\":\"0x01\"}}]},\"numericParameters\":null}],\"description\":\"k) BECM shall set Main Positive Contactor Fault Status = 0b1: Fault, if the condition for BECM to set DTCs as specified in IFS section 5.4.1.5 (MAIN_POS_CONT Control Side of the Main Positive Contactor) is met; otherwise, BECM shall set Main Positive Contactor Fault Status = 0b0: No Fault\",\"ecuconnectorpin\":null,\"leastSigBit\":\"7\",\"length\":1,\"mostSigBit\":\"7\",\"name\":\"Main Positive Contactor Fault Status\",\"numericranges\":null,\"shortName\":null,\"uncontrollableenumvalues\":null},{\"comment\":null,\"dataDefinitionIVOList\":[{\"asciiParameters\":null,\"bcdparameters\":null,\"dataType\":\"ENUMERATED\",\"defaultvalue\":null,\"description\":null,\"enumeratedParameters\":{\"enumMember\":[{\"description\":\"No Fault\",\"enumValue\":{\"value\":\"0x00\"}},{\"description\":\"Fault\",\"enumValue\":{\"value\":\"0x01\"}}]},\"numericParameters\":null}],\"description\":\"l) BECM shall set Precharge Contactor Fault Status = 0b1: Fault, if the condition for BECM to set DTCs as specified in IFS section 5.4.1.7 (PRECHARGE_CONT Control Side of the Pre-Charge Contactor) is met; otherwise, BECM shall set Precharge Contactor Fault Status = 0b0: No Fault\",\"ecuconnectorpin\":null,\"leastSigBit\":\"6\",\"length\":1,\"mostSigBit\":\"6\",\"name\":\"Precharge Contactor Fault Status\",\"numericranges\":null,\"shortName\":null,\"uncontrollableenumvalues\":null},{\"comment\":null,\"dataDefinitionIVOList\":[{\"asciiParameters\":null,\"bcdparameters\":null,\"dataType\":\"ENUMERATED\",\"defaultvalue\":null,\"description\":null,\"enumeratedParameters\":{\"enumMember\":[{\"description\":\"No Fault\",\"enumValue\":{\"value\":\"0x00\"}},{\"description\":\"Fault\",\"enumValue\":{\"value\":\"0x01\"}}]},\"numericParameters\":null}],\"description\":\"m) BECM shall set Negative Contactor Fault Status = 0b1: Fault, if the condition for BECM to set DTCs as specified in IFS section 5.4.1.6 (MAIN_NEG_CONT Control Side of the Main Negative Contactor) is met; otherwise, BECM shall set Negative Contactor Fault Status = 0b0: No Fault\",\"ecuconnectorpin\":null,\"leastSigBit\":\"5\",\"length\":1,\"mostSigBit\":\"5\",\"name\":\"Negative Contactor Fault Status\",\"numericranges\":null,\"shortName\":null,\"uncontrollableenumvalues\":null},{\"comment\":null,\"dataDefinitionIVOList\":[{\"asciiParameters\":null,\"bcdparameters\":null,\"dataType\":\"ENUMERATED\",\"defaultvalue\":null,\"description\":null,\"enumeratedParameters\":{\"enumMember\":[{\"description\":\"No Fault\",\"enumValue\":{\"value\":\"0x00\"}},{\"description\":\"Fault\",\"enumValue\":{\"value\":\"0x01\"}}]},\"numericParameters\":null}],\"description\":\"n) BECM shall set Positive Contactor Voltage Sensor Fault Status = 0b1: Fault, if the condition for BECM to set DTCs as specified in IFS section 5.3.1.6 (V_CONT_POS Vehicle Side of the Main Positive and Pre-charge Contactors) is met; otherwise BECM shall set Positive Contactor Voltage Sensor Fault Status = 0b0: No Fault\",\"ecuconnectorpin\":null,\"leastSigBit\":\"3\",\"length\":1,\"mostSigBit\":\"3\",\"name\":\"Positive Contactor Voltage Sensor Fault Status\",\"numericranges\":null,\"shortName\":null,\"uncontrollableenumvalues\":null},{\"comment\":null,\"dataDefinitionIVOList\":[{\"asciiParameters\":null,\"bcdparameters\":null,\"dataType\":\"ENUMERATED\",\"defaultvalue\":null,\"description\":null,\"enumeratedParameters\":{\"enumMember\":[{\"description\":\"No Fault\",\"enumValue\":{\"value\":\"0x00\"}},{\"description\":\"Fault\",\"enumValue\":{\"value\":\"0x01\"}}]},\"numericParameters\":null}],\"description\":\"o) BECM shall set Negative Contactor Voltage Sensor Fault Status = 0b1: Fault, if the condition for BECM to set DTCs as specified in IFS section 5.3.1.7 (V_CONT_NEG Vehicle Side of the Main Negative Contactor) is met; otherwise BECM shall set Negative Contactor Voltage Sensor Fault Status = 0b0: No Fault\",\"ecuconnectorpin\":null,\"leastSigBit\":\"2\",\"length\":1,\"mostSigBit\":\"2\",\"name\":\"Negative Contactor Voltage Sensor Fault Status\",\"numericranges\":null,\"shortName\":null,\"uncontrollableenumvalues\":null}]\n"
     ]
    }
   ],
   "source": [
    "import pandas as pd\n",
    "\n",
    "df = pd.read_csv('Bd.csv') #Import the csv file from the root\n",
    "content = df.columns[0]    #Reads the csv file content\n",
    "\n",
    "print(content)\n"
   ]
  },
  {
   "cell_type": "code",
   "execution_count": 243,
   "metadata": {},
   "outputs": [
    {
     "name": "stdout",
     "output_type": "stream",
     "text": [
      "   comment                                 description_caller ecuconnectorpin  \\\n",
      "0     None  a) BECM shall set Main Positive Contactor Outp...            None   \n",
      "1     None  b) BECM shall set Precharge Contactor Output D...            None   \n",
      "2     None  c) BECM shall set Negative Contactor Output De...            None   \n",
      "3     None  d) BECM shall set Contactor System Enable Outp...            None   \n",
      "4     None  e) BECM shall set Rapid Shutdown \"A\" Demanded ...            None   \n",
      "5     None  f) BECM shall set Main Positive Contactor Inpu...            None   \n",
      "6     None  g) BECM shall set Negative Contactor Input Sta...            None   \n",
      "7     None  h) BECM shall set Contactor System Enable Inpu...            None   \n",
      "8     None  i) BECM shall set High Voltage Interlock Input...            None   \n",
      "9     None  j) BECM shall set Vehicle Contactor Request Co...            None   \n",
      "10    None  k) BECM shall set Main Positive Contactor Faul...            None   \n",
      "11    None  l) BECM shall set Precharge Contactor Fault St...            None   \n",
      "12    None  m) BECM shall set Negative Contactor Fault Sta...            None   \n",
      "13    None  n) BECM shall set Positive Contactor Voltage S...            None   \n",
      "14    None  o) BECM shall set Negative Contactor Voltage S...            None   \n",
      "\n",
      "   leastSigBit  length mostSigBit  \\\n",
      "0           31       1         31   \n",
      "1           30       1         30   \n",
      "2           29       1         29   \n",
      "3           24       1         24   \n",
      "4           23       1         23   \n",
      "5           19       1         19   \n",
      "6           17       1         17   \n",
      "7           16       1         16   \n",
      "8           15       1         15   \n",
      "9           10       1         10   \n",
      "10           7       1          7   \n",
      "11           6       1          6   \n",
      "12           5       1          5   \n",
      "13           3       1          3   \n",
      "14           2       1          2   \n",
      "\n",
      "                                              name numericranges shortName  \\\n",
      "0          Main Positive Contactor Output Demanded          None      None   \n",
      "1              Precharge Contactor Output Demanded          None      None   \n",
      "2               Negative Contactor Output Demanded          None      None   \n",
      "3         Contactor System Enable Output Indicated          None      None   \n",
      "4                      Rapid Shutdown \"A\" Demanded          None      None   \n",
      "5             Main Positive Contactor Input Status          None      None   \n",
      "6                  Negative Contactor Input Status          None      None   \n",
      "7             Contactor System Enable Input Status          None      None   \n",
      "8              High Voltage Interlock Input Status          None      None   \n",
      "9                Vehicle Contactor Request Command          None      None   \n",
      "10            Main Positive Contactor Fault Status          None      None   \n",
      "11                Precharge Contactor Fault Status          None      None   \n",
      "12                 Negative Contactor Fault Status          None      None   \n",
      "13  Positive Contactor Voltage Sensor Fault Status          None      None   \n",
      "14  Negative Contactor Voltage Sensor Fault Status          None      None   \n",
      "\n",
      "   uncontrollableenumvalues asciiParameters bcdparameters    dataType  \\\n",
      "0                      None            None          None  ENUMERATED   \n",
      "1                      None            None          None  ENUMERATED   \n",
      "2                      None            None          None  ENUMERATED   \n",
      "3                      None            None          None  ENUMERATED   \n",
      "4                      None            None          None  ENUMERATED   \n",
      "5                      None            None          None  ENUMERATED   \n",
      "6                      None            None          None  ENUMERATED   \n",
      "7                      None            None          None  ENUMERATED   \n",
      "8                      None            None          None  ENUMERATED   \n",
      "9                      None            None          None  ENUMERATED   \n",
      "10                     None            None          None  ENUMERATED   \n",
      "11                     None            None          None  ENUMERATED   \n",
      "12                     None            None          None  ENUMERATED   \n",
      "13                     None            None          None  ENUMERATED   \n",
      "14                     None            None          None  ENUMERATED   \n",
      "\n",
      "   defaultvalue description_other numericParameters  \n",
      "0          None              None              None  \n",
      "1          None              None              None  \n",
      "2          None              None              None  \n",
      "3          None              None              None  \n",
      "4          None              None              None  \n",
      "5          None              None              None  \n",
      "6          None              None              None  \n",
      "7          None              None              None  \n",
      "8          None              None              None  \n",
      "9          None              None              None  \n",
      "10         None              None              None  \n",
      "11         None              None              None  \n",
      "12         None              None              None  \n",
      "13         None              None              None  \n",
      "14         None              None              None  \n"
     ]
    }
   ],
   "source": [
    "from pandas.io.json import json_normalize #1.0.1\n",
    "json_file  = json.loads(content) #Loads the json file\n",
    "df1 = json_normalize(json_file)  #Transform the json_file into a dataframe \n",
    "df2 = json_normalize(data, 'dataDefinitionIVOList') #Tranform the 'dataDefinitionIVOList' json script in many columns (dataframe)\n",
    "\n",
    "df1.drop('dataDefinitionIVOList', inplace=True, axis=1) #Drop the dataDefinitionIVOList column from df1\n",
    "df2.drop('enumeratedParameters', inplace=True, axis=1)  #Drop the enumeratedParameters column from df2 - not necessary\n",
    "table = df1.join(df2, lsuffix='_caller', rsuffix='_other') #Add the many columns from df2 to df1\n",
    "\n",
    "table.to_csv(r'C:\\Users\\vfreire\\Desktop\\table.csv', header=True) #Save the table\n",
    "\n",
    "#json_file2 = json_normalize(json_file, ['dataDefinitionIVOList','enumeratedParameters','enumMember'])\n",
    "\n",
    "print(table)\n"
   ]
  }
 ],
 "metadata": {
  "kernelspec": {
   "display_name": "Python 3",
   "language": "python",
   "name": "python3"
  },
  "language_info": {
   "codemirror_mode": {
    "name": "ipython",
    "version": 3
   },
   "file_extension": ".py",
   "mimetype": "text/x-python",
   "name": "python",
   "nbconvert_exporter": "python",
   "pygments_lexer": "ipython3",
   "version": "3.6.8"
  }
 },
 "nbformat": 4,
 "nbformat_minor": 2
}
